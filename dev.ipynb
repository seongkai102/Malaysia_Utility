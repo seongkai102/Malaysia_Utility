{
 "cells": [
  {
   "cell_type": "markdown",
   "id": "61e16b01",
   "metadata": {},
   "source": [
    "# 전체 개발 과정"
   ]
  },
  {
   "cell_type": "markdown",
   "id": "fcd96595",
   "metadata": {},
   "source": [
    "# 수식 계산기"
   ]
  },
  {
   "cell_type": "code",
   "execution_count": 16,
   "id": "f935f5d5",
   "metadata": {},
   "outputs": [
    {
     "data": {
      "text/plain": [
       "'계산 오류: 수식을 재점검 해주세요.'"
      ]
     },
     "execution_count": 16,
     "metadata": {},
     "output_type": "execute_result"
    }
   ],
   "source": [
    "# 숫자 확인함수\n",
    "def check_float(n):\n",
    "    try:\n",
    "        float(n)\n",
    "        return True\n",
    "    except:\n",
    "        return False\n",
    "        \n",
    "# 토크나이저\n",
    "def tokenizer(s):\n",
    "    tokens = []\n",
    "    n = \"\"\n",
    "    for i in range(len(s)):\n",
    "        t = s[i]\n",
    "\n",
    "        # 숫자, 소수점, 음수 부호\n",
    "        if t.isdigit() or t == '.' or (t == '-' and (i == 0 or s[i - 1] in '+-*/(^')):\n",
    "            n += t\n",
    "        else:\n",
    "            if n:\n",
    "                tokens.append(n)\n",
    "                n = \"\"\n",
    "            tokens.append(t)\n",
    "\n",
    "    if n:\n",
    "        tokens.append(n)\n",
    "\n",
    "\n",
    "    return tokens\n",
    "\n",
    "#shunting yard알고리즘\n",
    "def shunting_yard(tokens):\n",
    "    # 연산자의 우선순위\n",
    "    U = {'+':1, '-':1, '*':2, '/':2, '^':3}\n",
    "    R = {'^'}\n",
    "    result = []\n",
    "    stack = []\n",
    "    for token in tokens:\n",
    "        #토큰이 숫자인경우\n",
    "        if check_float(token):\n",
    "            result.append(token)\n",
    "        \n",
    "        # 연산자인경우\n",
    "        elif token in U:\n",
    "            while stack and (stack[-1] in U ) and (U[stack[-1]] > U[token] or (U[stack[-1]] == U[token]) and token not in R):\n",
    "                result.append(stack.pop())\n",
    "            stack.append(token)\n",
    "\n",
    "        # 괄호일경우-(\n",
    "        elif token=='(':\n",
    "            stack.append(token)\n",
    "\n",
    "        # 괄호일경우-)\n",
    "        elif token==')':\n",
    "            while stack and stack[-1]!='(':\n",
    "                result.append(stack.pop())\n",
    "            stack.pop()\n",
    "\n",
    "    # 남은 스택 결과에 추가\n",
    "    while stack:\n",
    "        result.append(stack.pop())\n",
    "\n",
    "    return result\n",
    "\n",
    "#후위계산법\n",
    "def calc(spt):\n",
    "    if len(spt)==1:\n",
    "        return float(spt[0])\n",
    "    \n",
    "    stack = []\n",
    "    for token in spt:\n",
    "        if check_float(token):\n",
    "            stack.append(token)\n",
    "        else:\n",
    "            try:\n",
    "                v2 = float(stack.pop())\n",
    "                v1 = float(stack.pop())\n",
    "\n",
    "                # 연산\n",
    "                if token=='+':\n",
    "                    r = v1+v2\n",
    "                elif token=='-':\n",
    "                    r = v1-v2\n",
    "                elif token=='*':\n",
    "                    r = v1*v2\n",
    "                elif token=='/':\n",
    "                    r = v1/v2\n",
    "                elif token=='^':\n",
    "                    r = v1**v2\n",
    "                \n",
    "                if abs(r) > 1_000_000_000_000:\n",
    "                    return \"시스템 과부하로 인해 값은 최대로 1조 미만까지 입니다.\"\n",
    "\n",
    "                stack.append(r)\n",
    "            except IndexError:\n",
    "                return \"계산 오류: 수식을 재점검 해주세요.\"\n",
    "            except ZeroDivisionError:\n",
    "                return \"계산 오류: 0으로 나눌수 없습니다.\"\n",
    "            except Exception:\n",
    "                return \"알수없는 오류발생.\"\n",
    "\n",
    "    # 결과 출력\n",
    "    if stack:\n",
    "        return stack[0]\n",
    "    else:\n",
    "        return f'입력된값이 없습니다. 현재스택: {stack}'\n",
    "\n",
    "# 수식계산\n",
    "def total_calc(sentence):\n",
    "    # 토큰 분류\n",
    "    spt = tokenizer(sentence)\n",
    "    \n",
    "    # 우선순위 만들기\n",
    "    trans_spt = shunting_yard(spt)\n",
    "\n",
    "    # 계산하기\n",
    "    r = calc(trans_spt)\n",
    "\n",
    "    # 결과 출력\n",
    "    return r\n",
    "\n",
    "words = input().replace(' ', '')\n",
    "total_calc(words)"
   ]
  },
  {
   "cell_type": "code",
   "execution_count": 16,
   "id": "0ca5ff7c",
   "metadata": {},
   "outputs": [
    {
     "data": {
      "text/plain": [
       "322.125194"
      ]
     },
     "execution_count": 16,
     "metadata": {},
     "output_type": "execute_result"
    }
   ],
   "source": [
    "import requests\n",
    "from bs4 import BeautifulSoup\n",
    "\n",
    "def get_myr_to_krw():\n",
    "    url = \"https://www.x-rates.com/calculator/?from=MYR&to=KRW&amount=1\"\n",
    "    res = requests.get(url)\n",
    "    soup = BeautifulSoup(res.text, 'html.parser')\n",
    "\n",
    "    value = soup.select_one(\"#content > div:nth-child(1) > div > div:nth-child(1) > div > div > span.ccOutputRslt\")\n",
    "\n",
    "    if value:\n",
    "        return value.text.strip()\n",
    "    else:\n",
    "        return \"❌ 환율 정보를 찾을 수 없습니다.\"\n",
    "\n",
    "float(get_myr_to_krw().split()[0])\n"
   ]
  },
  {
   "cell_type": "code",
   "execution_count": null,
   "id": "14d4a244",
   "metadata": {},
   "outputs": [
    {
     "name": "stderr",
     "output_type": "stream",
     "text": [
      "C:\\Users\\lsy45\\AppData\\Local\\Temp\\ipykernel_2992\\4234629050.py:10: FutureWarning: YF.download() has changed argument auto_adjust default to True\n",
      "  df = yf.download(ticker, start=start, end=end)\n",
      "[*********************100%***********************]  1 of 1 completed\n",
      "C:\\Users\\lsy45\\AppData\\Roaming\\Python\\Python38\\site-packages\\IPython\\core\\pylabtools.py:152: UserWarning: Glyph 52572 (\\N{HANGUL SYLLABLE COE}) missing from current font.\n",
      "  fig.canvas.print_figure(bytes_io, **kw)\n",
      "C:\\Users\\lsy45\\AppData\\Roaming\\Python\\Python38\\site-packages\\IPython\\core\\pylabtools.py:152: UserWarning: Glyph 44540 (\\N{HANGUL SYLLABLE GEUN}) missing from current font.\n",
      "  fig.canvas.print_figure(bytes_io, **kw)\n",
      "C:\\Users\\lsy45\\AppData\\Roaming\\Python\\Python38\\site-packages\\IPython\\core\\pylabtools.py:152: UserWarning: Glyph 51068 (\\N{HANGUL SYLLABLE IL}) missing from current font.\n",
      "  fig.canvas.print_figure(bytes_io, **kw)\n",
      "C:\\Users\\lsy45\\AppData\\Roaming\\Python\\Python38\\site-packages\\IPython\\core\\pylabtools.py:152: UserWarning: Glyph 54872 (\\N{HANGUL SYLLABLE HWAN}) missing from current font.\n",
      "  fig.canvas.print_figure(bytes_io, **kw)\n",
      "C:\\Users\\lsy45\\AppData\\Roaming\\Python\\Python38\\site-packages\\IPython\\core\\pylabtools.py:152: UserWarning: Glyph 50984 (\\N{HANGUL SYLLABLE YUL}) missing from current font.\n",
      "  fig.canvas.print_figure(bytes_io, **kw)\n"
     ]
    },
    {
     "name": "stdout",
     "output_type": "stream",
     "text": [
      "📈 지난 90일 평균환율: 325.9569\n",
      "📌 최신환율 (오늘): 321.9500\n",
      "✅ 현재 환율이 평균보다 1% 이상 낮습니다. ‘지금 사기 좋은 시점’입니다.\n"
     ]
    },
    {
     "name": "stderr",
     "output_type": "stream",
     "text": [
      "C:\\Users\\lsy45\\AppData\\Roaming\\Python\\Python38\\site-packages\\IPython\\core\\pylabtools.py:152: UserWarning: Glyph 54217 (\\N{HANGUL SYLLABLE PYEONG}) missing from current font.\n",
      "  fig.canvas.print_figure(bytes_io, **kw)\n",
      "C:\\Users\\lsy45\\AppData\\Roaming\\Python\\Python38\\site-packages\\IPython\\core\\pylabtools.py:152: UserWarning: Glyph 44512 (\\N{HANGUL SYLLABLE GYUN}) missing from current font.\n",
      "  fig.canvas.print_figure(bytes_io, **kw)\n",
      "C:\\Users\\lsy45\\AppData\\Roaming\\Python\\Python38\\site-packages\\IPython\\core\\pylabtools.py:152: UserWarning: Glyph 54788 (\\N{HANGUL SYLLABLE HYEON}) missing from current font.\n",
      "  fig.canvas.print_figure(bytes_io, **kw)\n",
      "C:\\Users\\lsy45\\AppData\\Roaming\\Python\\Python38\\site-packages\\IPython\\core\\pylabtools.py:152: UserWarning: Glyph 51116 (\\N{HANGUL SYLLABLE JAE}) missing from current font.\n",
      "  fig.canvas.print_figure(bytes_io, **kw)\n"
     ]
    },
    {
     "data": {
      "image/png": "[encoded data removed]",
      "text/plain": [
       "<Figure size 640x480 with 1 Axes>"
      ]
     },
     "metadata": {},
     "output_type": "display_data"
    }
   ],
   "source": [
    "import yfinance as yf\n",
    "import pandas as pd\n",
    "from datetime import datetime, timedelta\n",
    "\n",
    "# 1. 환율 데이터 가져오기 (예: USD/MYR, 'MYRUSD=X'는 MYR → USD, 필요에 따라 수정)\n",
    "ticker = 'MYRKRW=X'  # 예시로 수정 필요 (yfinance에 있는 MYR ticker 찾아야 함)\n",
    "end = datetime.today()\n",
    "start = end - timedelta(days=90)\n",
    "\n",
    "df = yf.download(ticker, start=start, end=end)\n",
    "\n",
    "if df.empty:\n",
    "    raise ValueError(\"환율 데이터를 불러오지 못했어요. ticker를 확인해 주세요.\")\n",
    "\n",
    "if isinstance(df['Close'], pd.DataFrame):\n",
    "    close_series = df['Close'].iloc[:, 0]\n",
    "else:\n",
    "    close_series = df['Close']\n",
    "\n",
    "latest = close_series.iloc[-1]\n",
    "mean_2m = close_series.mean()\n",
    "\n",
    "\n",
    "print(f\"📈 지난 90일 평균환율: {mean_2m:.4f}\")\n",
    "print(f\"📌 최신환율 (오늘): {latest:.4f}\")\n",
    "\n",
    "if latest < mean_2m * 0.97:\n",
    "    print(\"✅ 현재 환율이 평균보다 **3% 이상 낮습니다. 적극적으로 환전하기 좋은 시점입니다.**\")\n",
    "elif latest < mean_2m * 0.99:\n",
    "    print(\"🟢 현재 환율이 평균보다 **1~3% 낮습니다. 환전을 고려해볼 만한 시점입니다.**\")\n",
    "elif latest > mean_2m * 1.03:\n",
    "    print(\"🔴 현재 환율이 평균보다 **3% 이상 높습니다. 지금 환전은 피하는 것이 좋습니다.**\")\n",
    "elif latest > mean_2m * 1.01:\n",
    "    print(\"🟠 현재 환율이 평균보다 **1~3% 높습니다. 가격이 다소 높으니 신중히 판단하세요.**\")\n",
    "else:\n",
    "    print(\"🟡 현재 환율이 평균 수준입니다. 급하지 않다면 조금 더 지켜보는 것도 좋습니다.\")\n",
    "\n",
    "\n",
    "# 4. 시각화를 원하면:\n",
    "import matplotlib.pyplot as plt\n",
    "df['Close'].plot(title=f\"{ticker} 최근 90일 환율\")\n",
    "plt.axhline(mean_2m, color='orange', linestyle='--', label='90일 평균')\n",
    "plt.scatter(df.index[-1], latest, color='red', label='현재')\n",
    "plt.legend()\n",
    "plt.show()\n"
   ]
  },
  {
   "cell_type": "code",
   "execution_count": null,
   "id": "cc3b3b2f",
   "metadata": {},
   "outputs": [
    {
     "name": "stderr",
     "output_type": "stream",
     "text": [
      "C:\\Users\\lsy45\\AppData\\Local\\Temp\\ipykernel_2992\\3739287387.py:4: FutureWarning: YF.download() has changed argument auto_adjust default to True\n",
      "  myr_usd = yf.download(\"MYRKRW=X\", period=\"3mo\", interval=\"1d\", progress=False)\n"
     ]
    },
    {
     "data": {
      "text/plain": [
       "(Timestamp('2025-06-17 00:00:00'), 321.95001220703125)"
      ]
     },
     "execution_count": 42,
     "metadata": {},
     "output_type": "execute_result"
    }
   ],
   "source": [
    "import yfinance as yf\n",
    "import streamlit as st\n",
    "\n",
    "myr_usd = yf.download(\"MYRKRW=X\", period=\"3mo\", interval=\"1d\", progress=False)\n",
    "\n",
    "df = myr_usd.iloc[:, :1].reset_index()\n",
    "\n",
    "if df.empty:\n",
    "    st.errorValueError(\"환율 데이터를 불러오지 못했어요.\")\n",
    "else:\n",
    "    st.title(\"환전 타이밍 추천\")\n",
    "    mean_3m = df['Close'].mean()\n",
    "    date, last_v = df.iloc[-1, :].to_list()\n",
    "\n",
    "    st.subheader(f\"📈 지난 3달간 평균환율: {mean_3m:.4f}\")\n",
    "    st.subheader(f\"📌 최신환율 (오늘): {latest:.4f}\")\n",
    "    st.subheader('')\n",
    "\n",
    "    if latest < mean_3m * 0.97:\n",
    "        st.markdown(\"✅ 현재 환율이 평균보다 **3% 이상 낮습니다. 적극적으로 환전하기 좋은 시점입니다.**\")\n",
    "    elif latest < mean_3m * 0.99:\n",
    "        st.markdown(\"🟢 현재 환율이 평균보다 **1~3% 낮습니다. 환전을 고려해볼 만한 시점입니다.**\")\n",
    "    elif latest > mean_2m * 1.03:\n",
    "        st.markdown(\"🔴 현재 환율이 평균보다 **3% 이상 높습니다. 지금 환전은 피하는 것이 좋습니다.**\")\n",
    "    elif latest > mean_2m * 1.01:\n",
    "        st.markdown(\"🟠 현재 환율이 평균보다 **1~3% 높습니다. 가격이 다소 높으니 신중히 판단하세요.**\")\n",
    "    else:\n",
    "        st.markdown(\"🟡 현재 환율이 평균 수준입니다. 급하지 않다면 조금 더 지켜보는 것도 좋습니다.\")\n",
    "\n",
    "    \n",
    "\n",
    "date, last_v"
   ]
  },
  {
   "cell_type": "code",
   "execution_count": 45,
   "id": "797a2349",
   "metadata": {},
   "outputs": [
    {
     "data": {
      "text/plain": [
       "0    2025-03-17\n",
       "1    2025-03-18\n",
       "2    2025-03-19\n",
       "3    2025-03-20\n",
       "4    2025-03-21\n",
       "        ...    \n",
       "60   2025-06-11\n",
       "61   2025-06-12\n",
       "62   2025-06-13\n",
       "63   2025-06-16\n",
       "64   2025-06-17\n",
       "Name: Date, Length: 65, dtype: datetime64[ns]"
      ]
     },
     "execution_count": 45,
     "metadata": {},
     "output_type": "execute_result"
    }
   ],
   "source": [
    "df = myr_usd.reset_index()\n",
    "df[\"Date\"]"
   ]
  },
  {
   "cell_type": "code",
   "execution_count": 56,
   "id": "4949f2f1",
   "metadata": {},
   "outputs": [
    {
     "data": {
      "text/html": [
       "<div>\n",
       "<style scoped>\n",
       "    .dataframe tbody tr th:only-of-type {\n",
       "        vertical-align: middle;\n",
       "    }\n",
       "\n",
       "    .dataframe tbody tr th {\n",
       "        vertical-align: top;\n",
       "    }\n",
       "\n",
       "    .dataframe thead th {\n",
       "        text-align: right;\n",
       "    }\n",
       "</style>\n",
       "<table border=\"1\" class=\"dataframe\">\n",
       "  <thead>\n",
       "    <tr style=\"text-align: right;\">\n",
       "      <th></th>\n",
       "      <th>CP출발시간</th>\n",
       "      <th>T02도착시간</th>\n",
       "    </tr>\n",
       "  </thead>\n",
       "  <tbody>\n",
       "    <tr>\n",
       "      <th>0</th>\n",
       "      <td>7:25</td>\n",
       "      <td>7:40</td>\n",
       "    </tr>\n",
       "    <tr>\n",
       "      <th>1</th>\n",
       "      <td>7:55</td>\n",
       "      <td>8:10</td>\n",
       "    </tr>\n",
       "    <tr>\n",
       "      <th>2</th>\n",
       "      <td>8:25</td>\n",
       "      <td>8:40</td>\n",
       "    </tr>\n",
       "    <tr>\n",
       "      <th>3</th>\n",
       "      <td>8:55</td>\n",
       "      <td>9:10</td>\n",
       "    </tr>\n",
       "    <tr>\n",
       "      <th>4</th>\n",
       "      <td>9:25</td>\n",
       "      <td>9:40</td>\n",
       "    </tr>\n",
       "    <tr>\n",
       "      <th>5</th>\n",
       "      <td>9:55</td>\n",
       "      <td>10:10</td>\n",
       "    </tr>\n",
       "    <tr>\n",
       "      <th>6</th>\n",
       "      <td>11:30</td>\n",
       "      <td>11:50</td>\n",
       "    </tr>\n",
       "    <tr>\n",
       "      <th>7</th>\n",
       "      <td>12:10</td>\n",
       "      <td>12:30</td>\n",
       "    </tr>\n",
       "    <tr>\n",
       "      <th>8</th>\n",
       "      <td>12:50</td>\n",
       "      <td>13:05</td>\n",
       "    </tr>\n",
       "    <tr>\n",
       "      <th>9</th>\n",
       "      <td>13:20</td>\n",
       "      <td>13:35</td>\n",
       "    </tr>\n",
       "    <tr>\n",
       "      <th>10</th>\n",
       "      <td>13:50</td>\n",
       "      <td>14:05</td>\n",
       "    </tr>\n",
       "    <tr>\n",
       "      <th>11</th>\n",
       "      <td>14:20</td>\n",
       "      <td>14:35</td>\n",
       "    </tr>\n",
       "    <tr>\n",
       "      <th>12</th>\n",
       "      <td>14:50</td>\n",
       "      <td>15:05</td>\n",
       "    </tr>\n",
       "    <tr>\n",
       "      <th>13</th>\n",
       "      <td>16:30</td>\n",
       "      <td>16:50</td>\n",
       "    </tr>\n",
       "    <tr>\n",
       "      <th>14</th>\n",
       "      <td>17:10</td>\n",
       "      <td>17:30</td>\n",
       "    </tr>\n",
       "    <tr>\n",
       "      <th>15</th>\n",
       "      <td>17:50</td>\n",
       "      <td>18:10</td>\n",
       "    </tr>\n",
       "    <tr>\n",
       "      <th>16</th>\n",
       "      <td>18:30</td>\n",
       "      <td>18:50</td>\n",
       "    </tr>\n",
       "  </tbody>\n",
       "</table>\n",
       "</div>"
      ],
      "text/plain": [
       "   CP출발시간 T02도착시간\n",
       "0    7:25    7:40\n",
       "1    7:55    8:10\n",
       "2    8:25    8:40\n",
       "3    8:55    9:10\n",
       "4    9:25    9:40\n",
       "5    9:55   10:10\n",
       "6   11:30   11:50\n",
       "7   12:10   12:30\n",
       "8   12:50   13:05\n",
       "9   13:20   13:35\n",
       "10  13:50   14:05\n",
       "11  14:20   14:35\n",
       "12  14:50   15:05\n",
       "13  16:30   16:50\n",
       "14  17:10   17:30\n",
       "15  17:50   18:10\n",
       "16  18:30   18:50"
      ]
     },
     "execution_count": 56,
     "metadata": {},
     "output_type": "execute_result"
    }
   ],
   "source": [
    "pd.DataFrame({\"CP출발시간\":['7:25', '7:55', '8:25', '8:55', '9:25', '9:55', \"11:30\",  '12:10', '12:50', '13:20', '13:50', '14:20', '14:50', '16:30', '17:10', '17:50', '18:30'],\n",
    "              \"T02도착시간\":['7:40', '8:10', '8:40', '9:10', '9:40', '10:10', '11:50', '12:30', '13:05','13:35', '14:05', '14:35', '15:05', '16:50', '17:30', '18:10', '18:50']})"
   ]
  },
  {
   "cell_type": "code",
   "execution_count": 53,
   "id": "9bcf6663",
   "metadata": {},
   "outputs": [
    {
     "data": {
      "text/plain": [
       "['7:10', '7:40', '8:10', '8:40', '9:10', '9:40', '10:10', '10:40']"
      ]
     },
     "execution_count": 53,
     "metadata": {},
     "output_type": "execute_result"
    }
   ],
   "source": [
    "a = []\n",
    "for i in range(7, 11):\n",
    "    for j in [10, 40]:\n",
    "        a.append(f\"{i}:{j}\")\n",
    "\n",
    "a"
   ]
  }
 ],
 "metadata": {
  "kernelspec": {
   "display_name": "streamlit",
   "language": "python",
   "name": "python3"
  },
  "language_info": {
   "codemirror_mode": {
    "name": "ipython",
    "version": 3
   },
   "file_extension": ".py",
   "mimetype": "text/x-python",
   "name": "python",
   "nbconvert_exporter": "python",
   "pygments_lexer": "ipython3",
   "version": "3.8.20"
  }
 },
 "nbformat": 4,
 "nbformat_minor": 5
}
